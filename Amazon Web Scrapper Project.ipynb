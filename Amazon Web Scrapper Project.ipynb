{
 "cells": [
  {
   "cell_type": "code",
   "execution_count": 63,
   "id": "e5fc692c",
   "metadata": {},
   "outputs": [],
   "source": [
    "# import libraries \n",
    "\n",
    "from bs4 import BeautifulSoup\n",
    "import requests\n",
    "import time\n",
    "import datetime\n",
    "import csv\n",
    "import pandas as pd\n",
    "import smtplib "
   ]
  },
  {
   "cell_type": "code",
   "execution_count": 76,
   "id": "21711373",
   "metadata": {},
   "outputs": [
    {
     "name": "stdout",
     "output_type": "stream",
     "text": [
      "\n",
      "           Apple AirPods (3rd Generation) Wireless Earbuds with Lightning Charging Case. Spatial Audio, Sweat and Water Resistant, Up to 30 Hours of Battery Life. Bluetooth Headphones for iPhone\n",
      "          \n",
      "\n",
      "                        $169.00\n",
      "                       \n",
      "\n",
      "               4.6 out of 5 stars\n",
      "              \n",
      "\n",
      "            36,613 ratings\n",
      "           \n"
     ]
    }
   ],
   "source": [
    "# Connect to Website and pull in data\n",
    "\n",
    "URL = 'https://www.amazon.com/Apple-MME73AM-A-AirPods-3rd-Generation/dp/B0BDHB9Y8H/ref=sr_1_2?crid=VHPLQI6BHOA5&keywords=airpod%2B3&qid=1667088032&qu=eyJxc2MiOiIyLjYyIiwicXNhIjoiMS42NSIsInFzcCI6IjEuMzgifQ%3D%3D&sprefix=airpod%2B3%2Caps%2C87&sr=8-2&th=1'\n",
    "\n",
    "headers = {\"User-Agent\": \"Mozilla/5.0 (Windows NT 10.0; Win64; x64) AppleWebKit/537.36 (KHTML, like Gecko) Chrome/107.0.0.0 Safari/537.36 Edg/107.0.1418.24\", \"Accept-Encoding\":\"gzip, deflate\", \"Accept\":\"text/html,application/xhtml+xml,application/xml;q=0.9,*/*;q=0.8\", \"DNT\":\"1\",\"Connection\":\"close\", \"Upgrade-Insecure-Requests\":\"1\"}\n",
    "\n",
    "\n",
    "page = requests.get(URL, headers=headers)\n",
    "\n",
    "soup1 = BeautifulSoup(page.content, 'html.parser')\n",
    "\n",
    "soup2 = BeautifulSoup(soup1.prettify(), 'html.parser')\n",
    "\n",
    "title = soup2.find(id='productTitle').get_text()\n",
    "\n",
    "price = soup2.find(\"span\", attrs={'class' : 'a-offscreen'}).get_text()\n",
    "\n",
    "rating = soup2.find(\"span\", attrs={'class':'a-icon-alt'}).get_text()\n",
    "\n",
    "review_count = soup2.find(\"span\", attrs={'id':'acrCustomerReviewText'}).get_text()\n",
    "\n",
    "\n",
    "print(title)\n",
    "print(price)\n",
    "print(rating)\n",
    "print(review_count)\n",
    "\n",
    "\n"
   ]
  },
  {
   "cell_type": "code",
   "execution_count": 81,
   "id": "b368f2f4",
   "metadata": {},
   "outputs": [
    {
     "name": "stdout",
     "output_type": "stream",
     "text": [
      "Apple AirPods (3rd Generation) Wireless Earbuds with Lightning Charging Case. Spatial Audio, Sweat and Water Resistant, Up to 30 Hours of Battery Life. Bluetooth Headphones for iPhone\n",
      "169.00\n",
      "4.6 out of 5 stars\n",
      "36,613 ratings\n"
     ]
    }
   ],
   "source": [
    "#Remove leading and trailing characters for the data\n",
    "\n",
    "title = title.strip()\n",
    "price = price.strip()[1:]\n",
    "rating = rating.strip()\n",
    "review_count = review_count.strip()\n",
    "\n",
    "print(title)\n",
    "print(price)\n",
    "print(rating)\n",
    "print(review_count)"
   ]
  },
  {
   "cell_type": "code",
   "execution_count": 82,
   "id": "55661bee",
   "metadata": {},
   "outputs": [
    {
     "name": "stdout",
     "output_type": "stream",
     "text": [
      "2022-10-29\n"
     ]
    }
   ],
   "source": [
    "# Create a Timestamp for your output to track when data was collected\n",
    "\n",
    "today = datetime.date.today()\n",
    "\n",
    "print(today)"
   ]
  },
  {
   "cell_type": "code",
   "execution_count": 83,
   "id": "74b08e27",
   "metadata": {},
   "outputs": [],
   "source": [
    "# Create CSV and write headers and data into the file\n",
    "\n",
    "header = ['Title', 'Price', 'Date', 'Rating', \"Review_Count\"]\n",
    "data = [title, price, today, rating, review_count]\n",
    "\n",
    "with open('Amazon Webscraper Dataset.csv', 'w', newline = '', encoding = 'UTF8') as f:\n",
    "    writer = csv.writer(f)\n",
    "    writer.writerow(header)\n",
    "    writer.writerow(data)"
   ]
  },
  {
   "cell_type": "code",
   "execution_count": 84,
   "id": "6bd9db9e",
   "metadata": {},
   "outputs": [
    {
     "name": "stdout",
     "output_type": "stream",
     "text": [
      "                                               Title  Price        Date  \\\n",
      "0  Apple AirPods (3rd Generation) Wireless Earbud...  169.0  2022-10-29   \n",
      "\n",
      "               Rating    Review_Count  \n",
      "0  4.6 out of 5 stars  36,613 ratings  \n"
     ]
    }
   ],
   "source": [
    "df = pd.read_csv(r'C:\\Users\\latin\\Downloads\\Documents\\Amazon Webscraper Dataset.csv')\n",
    "\n",
    "print(df)"
   ]
  },
  {
   "cell_type": "code",
   "execution_count": 85,
   "id": "de89a945",
   "metadata": {},
   "outputs": [],
   "source": [
    "#Now we are appending data to the csv\n",
    "\n",
    "with open('Amazon Webscraper Dataset.csv', 'w', newline = '', encoding = 'UTF8') as f:\n",
    "    writer = csv.writer(f)\n",
    "    writer.writerow(data)"
   ]
  },
  {
   "cell_type": "code",
   "execution_count": 86,
   "id": "2013b366",
   "metadata": {},
   "outputs": [],
   "source": [
    "#Combine all of the above code into one function\n",
    "\n",
    "def check_price():\n",
    "\n",
    "    URL = 'https://www.amazon.com/Apple-MME73AM-A-AirPods-3rd-Generation/dp/B09JQL3NWT/ref=sr_1_2?crid=VHPLQI6BHOA5&keywords=airpod+3&qid=1667088032&qu=eyJxc2MiOiIyLjYyIiwicXNhIjoiMS42NSIsInFzcCI6IjEuMzgifQ%3D%3D&sprefix=airpod+3%2Caps%2C87&sr=8-2'\n",
    "\n",
    "    headers = {\"User-Agent\": \"Mozilla/5.0 (Windows NT 10.0; Win64; x64) AppleWebKit/537.36 (KHTML, like Gecko) Chrome/107.0.0.0 Safari/537.36 Edg/107.0.1418.24\", \"Accept-Encoding\":\"gzip, deflate\", \"Accept\":\"text/html,application/xhtml+xml,application/xml;q=0.9,*/*;q=0.8\", \"DNT\":\"1\",\"Connection\":\"close\", \"Upgrade-Insecure-Requests\":\"1\"}\n",
    "\n",
    "\n",
    "    page = requests.get(URL, headers=headers)\n",
    "\n",
    "    soup1 = BeautifulSoup(page.content, 'html.parser')\n",
    "\n",
    "    soup2 = BeautifulSoup(soup1.prettify(), 'html.parser')\n",
    "\n",
    "    title = soup2.find(id='productTitle').get_text()\n",
    "\n",
    "    price = soup2.find(\"span\", attrs={'class' : 'a-offscreen'}).get_text()\n",
    "\n",
    "    rating = soup2.find(\"span\", attrs={'class':'a-icon-alt'}).get_text()\n",
    "\n",
    "    review_count = soup2.find(\"span\", attrs={'id':'acrCustomerReviewText'}).get_text()\n",
    "    \n",
    "    today = datetime.date.today()\n",
    "    \n",
    "    title = title.strip()\n",
    "    price = price.strip()[1:]\n",
    "    rating = rating.strip()\n",
    "    review_count = review_count.strip()\n",
    "\n",
    "    header = ['Title', 'Price', 'Date', 'Rating', \"Review_Count\"]\n",
    "    data = [title, price, today, rating, review_count]\n",
    "    \n",
    "    with open('Amazon Webscraper Dataset.csv', 'w', newline = '', encoding = 'UTF8') as f:\n",
    "        writer = csv.writer(f)\n",
    "        writer.writerow(data)\n",
    "    \n",
    "    if(price < 150):\n",
    "        send_mail()"
   ]
  },
  {
   "cell_type": "code",
   "execution_count": null,
   "id": "d1df664f",
   "metadata": {},
   "outputs": [],
   "source": [
    "# Runs check_price after a set time and inputs data into my CSV\n",
    "\n",
    "while(True):\n",
    "    check_price()\n",
    "    time.sleep(86400)"
   ]
  },
  {
   "cell_type": "code",
   "execution_count": null,
   "id": "0d3c263f",
   "metadata": {},
   "outputs": [],
   "source": [
    "import pandas as pd\n",
    "\n",
    "df = pd.read_csv(r'C:\\Users\\latin\\Downloads\\Documents\\Amazon Webscraper Dataset.csv')\n",
    "\n",
    "print(df)"
   ]
  },
  {
   "cell_type": "code",
   "execution_count": 88,
   "id": "5069261b",
   "metadata": {},
   "outputs": [],
   "source": [
    "# Sending myself a email if the price is below certain level\n",
    "\n",
    "def send_mail():\n",
    "    server = smtplib.SMTP_SSL('smtp.gmail.com',465)\n",
    "    server.ehlo()\n",
    "    #server.starttls()\n",
    "    server.ehlo()\n",
    "    server.login('stanz245@gmail.com','xxxxxxxxxxxxxx')\n",
    "    \n",
    "    subject = \"The Airpod you want is below $150! Now is your chance to buy!\"\n",
    "    body = \"Stanley, This is the moment we have been waiting for. Now is your chance to pick up the shirt of your dreams. Don't mess it up! Link here: https://www.amazon.com/Apple-MME73AM-A-AirPods-3rd-Generation/dp/B0BDHB9Y8H/ref=sr_1_2?crid=VHPLQI6BHOA5&keywords=airpod%2B3&qid=1667088032&qu=eyJxc2MiOiIyLjYyIiwicXNhIjoiMS42NSIsInFzcCI6IjEuMzgifQ%3D%3D&sprefix=airpod%2B3%2Caps%2C87&sr=8-2&th=1\"\n",
    "   \n",
    "    msg = f\"Subject: {subject}\\n\\n{body}\"\n",
    "    \n",
    "    server.sendmail(\n",
    "        'stanz245@gmail.com',\n",
    "        msg\n",
    "     \n",
    "    )"
   ]
  }
 ],
 "metadata": {
  "kernelspec": {
   "display_name": "Python 3",
   "language": "python",
   "name": "python3"
  },
  "language_info": {
   "codemirror_mode": {
    "name": "ipython",
    "version": 3
   },
   "file_extension": ".py",
   "mimetype": "text/x-python",
   "name": "python",
   "nbconvert_exporter": "python",
   "pygments_lexer": "ipython3",
   "version": "3.8.8"
  }
 },
 "nbformat": 4,
 "nbformat_minor": 5
}
